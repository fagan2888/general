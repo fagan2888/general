{
 "cells": [
  {
   "cell_type": "code",
   "execution_count": 1,
   "metadata": {},
   "outputs": [
    {
     "name": "stderr",
     "output_type": "stream",
     "text": [
      "Using Theano backend.\n"
     ]
    }
   ],
   "source": [
    "from TPEX import TPEX"
   ]
  },
  {
   "cell_type": "code",
   "execution_count": 2,
   "metadata": {
    "collapsed": true
   },
   "outputs": [],
   "source": [
    "import pandas as pd\n",
    "\n",
    "a = pd.read_html(\"http://isin.twse.com.tw/isin/e_C_public.jsp?strMode=4\")"
   ]
  },
  {
   "cell_type": "code",
   "execution_count": 3,
   "metadata": {
    "collapsed": true
   },
   "outputs": [],
   "source": [
    "df = a[0]"
   ]
  },
  {
   "cell_type": "code",
   "execution_count": 4,
   "metadata": {
    "collapsed": true
   },
   "outputs": [],
   "source": [
    "df = df[pd.notnull(df[df.columns[4]])]"
   ]
  },
  {
   "cell_type": "code",
   "execution_count": null,
   "metadata": {
    "collapsed": true
   },
   "outputs": [],
   "source": [
    "stock_ids = list(df[df.columns[0]].apply(lambda x: x[:4]))[1:]"
   ]
  },
  {
   "cell_type": "code",
   "execution_count": null,
   "metadata": {},
   "outputs": [
    {
     "name": "stderr",
     "output_type": "stream",
     "text": [
      "C:\\Users\\artur.kashperskiy\\AppData\\Local\\Continuum\\Anaconda3\\envs\\python2\\lib\\site-packages\\keras\\engine\\topology.py:1231: UserWarning: Update your `Conv2D` call to the Keras 2 API: `Conv2D(trainable=True, filters=32, use_bias=True, bias_regularizer=None, input_dtype=\"float32\", activity_regularizer=None, kernel_initializer=\"glorot_uniform\", kernel_constraint=None, activation=\"linear\", padding=\"same\", strides=[1, 1], batch_input_shape=[None, 3, ..., name=\"convolution2d_1\", bias_constraint=None, data_format=\"channels_first\", kernel_regularizer=None, kernel_size=(3, 3))`\n",
      "  return cls(**config)\n",
      "C:\\Users\\artur.kashperskiy\\AppData\\Local\\Continuum\\Anaconda3\\envs\\python2\\lib\\site-packages\\keras\\engine\\topology.py:1231: UserWarning: Update your `Conv2D` call to the Keras 2 API: `Conv2D(kernel_initializer=\"glorot_uniform\", kernel_constraint=None, activation=\"linear\", trainable=True, padding=\"valid\", strides=[1, 1], filters=32, use_bias=True, name=\"convolution2d_2\", bias_regularizer=None, bias_constraint=None, data_format=\"channels_first\", kernel_regularizer=None, activity_regularizer=None, kernel_size=(3, 3))`\n",
      "  return cls(**config)\n",
      "C:\\Users\\artur.kashperskiy\\AppData\\Local\\Continuum\\Anaconda3\\envs\\python2\\lib\\site-packages\\keras\\engine\\topology.py:1231: UserWarning: Update your `MaxPooling2D` call to the Keras 2 API: `MaxPooling2D(name=\"maxpooling2d_1\", trainable=True, data_format=\"channels_first\", pool_size=[2, 2], padding=\"valid\", strides=[2, 2])`\n",
      "  return cls(**config)\n",
      "C:\\Users\\artur.kashperskiy\\AppData\\Local\\Continuum\\Anaconda3\\envs\\python2\\lib\\site-packages\\keras\\engine\\topology.py:1231: UserWarning: Update your `Dropout` call to the Keras 2 API: `Dropout(rate=0.25, trainable=True, name=\"dropout_1\")`\n",
      "  return cls(**config)\n",
      "C:\\Users\\artur.kashperskiy\\AppData\\Local\\Continuum\\Anaconda3\\envs\\python2\\lib\\site-packages\\keras\\engine\\topology.py:1231: UserWarning: Update your `Conv2D` call to the Keras 2 API: `Conv2D(kernel_initializer=\"glorot_uniform\", kernel_constraint=None, activation=\"linear\", trainable=True, padding=\"same\", strides=[1, 1], filters=64, use_bias=True, name=\"convolution2d_3\", bias_regularizer=None, bias_constraint=None, data_format=\"channels_first\", kernel_regularizer=None, activity_regularizer=None, kernel_size=(3, 3))`\n",
      "  return cls(**config)\n",
      "C:\\Users\\artur.kashperskiy\\AppData\\Local\\Continuum\\Anaconda3\\envs\\python2\\lib\\site-packages\\keras\\engine\\topology.py:1231: UserWarning: Update your `Conv2D` call to the Keras 2 API: `Conv2D(kernel_initializer=\"glorot_uniform\", kernel_constraint=None, activation=\"linear\", trainable=True, padding=\"valid\", strides=[1, 1], filters=64, use_bias=True, name=\"convolution2d_4\", bias_regularizer=None, bias_constraint=None, data_format=\"channels_first\", kernel_regularizer=None, activity_regularizer=None, kernel_size=(3, 3))`\n",
      "  return cls(**config)\n",
      "C:\\Users\\artur.kashperskiy\\AppData\\Local\\Continuum\\Anaconda3\\envs\\python2\\lib\\site-packages\\keras\\engine\\topology.py:1231: UserWarning: Update your `MaxPooling2D` call to the Keras 2 API: `MaxPooling2D(name=\"maxpooling2d_2\", trainable=True, data_format=\"channels_first\", pool_size=[2, 2], padding=\"valid\", strides=[2, 2])`\n",
      "  return cls(**config)\n",
      "C:\\Users\\artur.kashperskiy\\AppData\\Local\\Continuum\\Anaconda3\\envs\\python2\\lib\\site-packages\\keras\\engine\\topology.py:1231: UserWarning: Update your `Dropout` call to the Keras 2 API: `Dropout(rate=0.25, trainable=True, name=\"dropout_2\")`\n",
      "  return cls(**config)\n",
      "C:\\Users\\artur.kashperskiy\\AppData\\Local\\Continuum\\Anaconda3\\envs\\python2\\lib\\site-packages\\keras\\engine\\topology.py:1231: UserWarning: Update your `Dense` call to the Keras 2 API: `Dense(name=\"dense_1\", bias_regularizer=None, bias_constraint=None, activity_regularizer=None, trainable=True, kernel_constraint=None, kernel_regularizer=None, input_dim=None, units=512, kernel_initializer=\"glorot_uniform\", use_bias=True, activation=\"linear\")`\n",
      "  return cls(**config)\n",
      "C:\\Users\\artur.kashperskiy\\AppData\\Local\\Continuum\\Anaconda3\\envs\\python2\\lib\\site-packages\\keras\\engine\\topology.py:1231: UserWarning: Update your `Dropout` call to the Keras 2 API: `Dropout(rate=0.5, trainable=True, name=\"dropout_3\")`\n",
      "  return cls(**config)\n",
      "C:\\Users\\artur.kashperskiy\\AppData\\Local\\Continuum\\Anaconda3\\envs\\python2\\lib\\site-packages\\keras\\engine\\topology.py:1231: UserWarning: Update your `Dense` call to the Keras 2 API: `Dense(name=\"dense_2\", bias_regularizer=None, bias_constraint=None, activity_regularizer=None, trainable=True, kernel_constraint=None, kernel_regularizer=None, input_dim=None, units=34, kernel_initializer=\"glorot_uniform\", use_bias=True, activation=\"linear\")`\n",
      "  return cls(**config)\n"
     ]
    },
    {
     "name": "stdout",
     "output_type": "stream",
     "text": [
      "captcha misspelled: requeued 2235\n",
      "stock id invalid: 2718\n",
      "stock id invalid: 3219\n",
      "stock id invalid: 3662\n",
      "stock id invalid: 4413\n",
      "stock id invalid: 4415\n",
      "stock id invalid: 5348\n",
      "stock id invalid: 5432\n",
      "stock id invalid: 5516\n",
      "stock id invalid: 5703\n",
      "stock id invalid: 6144\n"
     ]
    }
   ],
   "source": [
    "a = TPEX(stock_ids)\n",
    "v = a.stock_enumeration()"
   ]
  },
  {
   "cell_type": "code",
   "execution_count": null,
   "metadata": {},
   "outputs": [],
   "source": []
  },
  {
   "cell_type": "code",
   "execution_count": null,
   "metadata": {
    "collapsed": true
   },
   "outputs": [],
   "source": []
  }
 ],
 "metadata": {
  "kernelspec": {
   "display_name": "Python 2",
   "language": "python",
   "name": "python2"
  },
  "language_info": {
   "codemirror_mode": {
    "name": "ipython",
    "version": 2
   },
   "file_extension": ".py",
   "mimetype": "text/x-python",
   "name": "python",
   "nbconvert_exporter": "python",
   "pygments_lexer": "ipython2",
   "version": "2.7.13"
  }
 },
 "nbformat": 4,
 "nbformat_minor": 2
}
