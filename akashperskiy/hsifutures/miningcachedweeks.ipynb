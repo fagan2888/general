{
 "cells": [
  {
   "cell_type": "code",
   "execution_count": 10,
   "metadata": {
    "collapsed": true
   },
   "outputs": [],
   "source": [
    "import scraper_main as hsi\n",
    "import pickle\n",
    "import json\n",
    "import pandas as pd"
   ]
  },
  {
   "cell_type": "code",
   "execution_count": 11,
   "metadata": {
    "collapsed": true
   },
   "outputs": [],
   "source": [
    "cached_links = open(\"cached_links.json\")\n",
    "cached = json.loads(cached_links.readlines()[0])\n",
    "cached_links.close()\n"
   ]
  },
  {
   "cell_type": "code",
   "execution_count": 12,
   "metadata": {
    "scrolled": true
   },
   "outputs": [
    {
     "name": "stdout",
     "output_type": "stream",
     "text": [
      "0.0%\n",
      "1.72413793103%\n",
      "3.44827586207%\n",
      "5.1724137931%\n",
      "6.89655172414%\n",
      "8.62068965517%\n",
      "10.3448275862%\n",
      "12.0689655172%\n",
      "13.7931034483%\n",
      "15.5172413793%\n",
      "17.2413793103%\n",
      "18.9655172414%\n",
      "20.6896551724%\n",
      "22.4137931034%\n",
      "24.1379310345%\n",
      "25.8620689655%\n",
      "27.5862068966%\n",
      "29.3103448276%\n",
      "31.0344827586%\n",
      "32.7586206897%\n",
      "34.4827586207%\n",
      "36.2068965517%\n",
      "37.9310344828%\n",
      "39.6551724138%\n",
      "41.3793103448%\n",
      "43.1034482759%\n",
      "44.8275862069%\n",
      "46.5517241379%\n",
      "48.275862069%\n",
      "50.0%\n",
      "51.724137931%\n",
      "53.4482758621%\n",
      "55.1724137931%\n",
      "56.8965517241%\n",
      "58.6206896552%\n",
      "60.3448275862%\n",
      "62.0689655172%\n",
      "63.7931034483%\n",
      "65.5172413793%\n",
      "67.2413793103%\n",
      "68.9655172414%\n",
      "70.6896551724%\n",
      "72.4137931034%\n",
      "74.1379310345%\n",
      "75.8620689655%\n",
      "77.5862068966%\n",
      "79.3103448276%\n",
      "81.0344827586%\n",
      "82.7586206897%\n",
      "84.4827586207%\n",
      "86.2068965517%\n",
      "87.9310344828%\n",
      "89.6551724138%\n",
      "91.3793103448%\n",
      "93.1034482759%\n",
      "94.8275862069%\n",
      "96.5517241379%\n",
      "98.275862069%\n"
     ]
    }
   ],
   "source": [
    "a, b, c = hsi.generate_hsi_dataframes(hsi.SCRAPING_URL, both=True)\n",
    "total = 0.0\n",
    "for i in cached:\n",
    "    for n in range(len(cached[i])):\n",
    "        print str(total/58.0*100) + \"%\"\n",
    "        z, x, v = hsi.generate_hsi_dataframes(cached[i][n], year=int(i), both=True)\n",
    "        a = pd.concat([a, z])\n",
    "        b = pd.concat([b, x])\n",
    "        c = pd.concat([c, v])\n",
    "        total += 1\n"
   ]
  },
  {
   "cell_type": "code",
   "execution_count": 14,
   "metadata": {
    "collapsed": true
   },
   "outputs": [],
   "source": [
    "a = a.drop_duplicates(['type', 'value', 'participant', 'datadate'])\n",
    "b = b.drop_duplicates(['type', 'contracts', 'interest', 'datadate'])\n",
    "c = c.drop_duplicates(['cash_market_turnover', 'index_futures_turnover', 'exchange_participants', 'datadate'])"
   ]
  },
  {
   "cell_type": "code",
   "execution_count": 16,
   "metadata": {
    "collapsed": true
   },
   "outputs": [],
   "source": [
    "pickle.dump(a, open(\"dfdumps/participants.dump\", \"w\"))\n",
    "pickle.dump(b, open(\"dfdumps/interestcontracts.dump\", \"w\"))\n",
    "pickle.dump(c, open(\"dfdumps/last_three.dump\", \"w\"))"
   ]
  },
  {
   "cell_type": "code",
   "execution_count": 17,
   "metadata": {
    "collapsed": true
   },
   "outputs": [],
   "source": [
    "a = pickle.load(open(\"dfdumps/participants.dump\"))\n",
    "b = pickle.load(open(\"dfdumps/interestcontracts.dump\"))\n",
    "c = pickle.load(open(\"dfdumps/last_three.dump\"))\n"
   ]
  },
  {
   "cell_type": "code",
   "execution_count": null,
   "metadata": {
    "collapsed": true
   },
   "outputs": [],
   "source": []
  }
 ],
 "metadata": {
  "kernelspec": {
   "display_name": "Python 2",
   "language": "python",
   "name": "python2"
  },
  "language_info": {
   "codemirror_mode": {
    "name": "ipython",
    "version": 2
   },
   "file_extension": ".py",
   "mimetype": "text/x-python",
   "name": "python",
   "nbconvert_exporter": "python",
   "pygments_lexer": "ipython2",
   "version": "2.7.13"
  }
 },
 "nbformat": 4,
 "nbformat_minor": 2
}
